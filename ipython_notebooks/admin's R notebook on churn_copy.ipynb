{
  "metadata": {
    "kernelspec": {
      "display_name": "R",
      "language": "r",
      "name": "ir"
    },
    "analyzedDataset": "churn_copy",
    "creator": "admin",
    "createdOn": 1752221056167,
    "tags": [],
    "customFields": {}
  },
  "nbformat": 4,
  "nbformat_minor": 0,
  "cells": [
    {
      "execution_count": 0,
      "cell_type": "code",
      "metadata": {},
      "source": [
        "library(dataiku)"
      ],
      "outputs": []
    },
    {
      "execution_count": 0,
      "cell_type": "code",
      "metadata": {},
      "source": [
        "# Read the dataset as a R dataframe in memory\n",
        "# Note: here, we only read the first 100K rows. Other sampling options are available\n",
        "df \u003c- dkuReadDataset(\"churn_copy\", samplingMethod\u003d\"head\", nbRows\u003d100000)"
      ],
      "outputs": []
    },
    {
      "execution_count": 0,
      "cell_type": "code",
      "metadata": {},
      "source": [],
      "outputs": []
    }
  ]
}