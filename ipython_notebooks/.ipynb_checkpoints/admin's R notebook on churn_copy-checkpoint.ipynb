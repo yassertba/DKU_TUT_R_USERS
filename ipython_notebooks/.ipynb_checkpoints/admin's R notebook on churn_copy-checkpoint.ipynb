{
  "metadata": {
    "kernelspec": {
      "name": "ir",
      "display_name": "R",
      "language": "R"
    },
    "hide_input": false,
    "language_info": {
      "name": "R",
      "codemirror_mode": "r",
      "pygments_lexer": "r",
      "mimetype": "text/x-r-source",
      "file_extension": ".r",
      "version": "4.5.0"
    },
    "creator": "admin",
    "analyzedDataset": "churn_copy",
    "tags": [],
    "createdOn": 1752221056167,
    "customFields": {},
    "modifiedBy": "admin"
  },
  "nbformat": 4,
  "nbformat_minor": 1,
  "cells": [
    {
      "execution_count": 0,
      "cell_type": "code",
      "metadata": {},
      "source": [
        "library(dataiku)\nlibrary(dplyr)"
      ],
      "outputs": []
    },
    {
      "execution_count": 0,
      "cell_type": "code",
      "metadata": {},
      "source": [
        "# Read the dataset as a R dataframe in memory\n# Note: here, we only read the first 100K rows. Other sampling options are available\ndf \u003c- dkuReadDataset(\"churn_copy\", samplingMethod\u003d\"head\", nbRows\u003d100000)"
      ],
      "outputs": []
    },
    {
      "execution_count": 0,
      "cell_type": "code",
      "metadata": {},
      "source": [
        "df %\u003e%\n    rename(Churn \u003d Churn.) %\u003e%\n    mutate(Churn \u003d if_else(Churn \u003d\u003d \"True.\", \"True\", \"False\"),\n        Area_Code \u003d as.character(Area_Code)) %\u003e%\n    select(-Phone) -\u003e\n    df_prepared_r"
      ],
      "outputs": []
    }
  ]
}